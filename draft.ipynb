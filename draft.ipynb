{
 "cells": [
  {
   "cell_type": "code",
   "execution_count": 3,
   "metadata": {},
   "outputs": [],
   "source": [
    "#!/usr/bin/env python\n",
    "# Jupyter notebook cell\n",
    "\n",
    "import os\n",
    "import json\n",
    "import numpy as np"
   ]
  },
  {
   "cell_type": "code",
   "execution_count": 17,
   "metadata": {},
   "outputs": [],
   "source": [
    "# Specify the subfolder structure where the dust3r results are found.\n",
    "# We will look for: [SCENE_ID]/3_views/2DGS_dust3r/results.json\n",
    "SUB_FOLDER = os.path.join(\"3_views\", \"3DGS_spann3r\")\n",
    "ROOT_FOLDER = os.path.join('.', \"output_eval\", \"scannetpp\")\n",
    "RESULTS_FILENAME = \"results.json\""
   ]
  },
  {
   "cell_type": "code",
   "execution_count": 18,
   "metadata": {},
   "outputs": [
    {
     "name": "stdout",
     "output_type": "stream",
     "text": [
      "./output_eval/scannetpp/3db0a1c8f3_02/3_views/2DGS_spann3r/results.json\n",
      "./output_eval/scannetpp/ab11145646_00/3_views/2DGS_spann3r/results.json\n",
      "./output_eval/scannetpp/7079b59642_09/3_views/2DGS_spann3r/results.json\n",
      "./output_eval/scannetpp/f5401524e5_04/3_views/2DGS_spann3r/results.json\n",
      "./output_eval/scannetpp/7079b59642_08/3_views/2DGS_spann3r/results.json\n",
      "./output_eval/scannetpp/ab11145646_01/3_views/2DGS_spann3r/results.json\n",
      "./output_eval/scannetpp/3db0a1c8f3_03/3_views/2DGS_spann3r/results.json\n",
      "./output_eval/scannetpp/f5401524e5_05/3_views/2DGS_spann3r/results.json\n",
      "./output_eval/scannetpp/484ad681df_06/3_views/2DGS_spann3r/results.json\n",
      "./output_eval/scannetpp/484ad681df_07/3_views/2DGS_spann3r/results.json\n",
      "Mean metrics across all scenes for dust3r:\n",
      "\n"
     ]
    }
   ],
   "source": [
    "# We'll collect metrics from each scene in a list so we can later compute averages.\n",
    "all_metrics = {\n",
    "    \"SSIM\": [],\n",
    "    \"PSNR\": [],\n",
    "    \"LPIPS\": [],\n",
    "}\n",
    "\n",
    "\n",
    "# 1. Loop through each item in the current directory.\n",
    "for scene_name in os.listdir(ROOT_FOLDER):\n",
    "    \n",
    "    scene_dir = os.path.join(ROOT_FOLDER, scene_name)\n",
    "    # Skip anything that is not a directory or starts with a dot.\n",
    "    if not os.path.isdir(scene_dir):\n",
    "        continue\n",
    "    \n",
    "    # Construct full path to dust3r results.json\n",
    "    dust3r_dir = os.path.join(scene_dir, SUB_FOLDER)\n",
    "    results_path = os.path.join(dust3r_dir, RESULTS_FILENAME)\n",
    "    print(results_path)\n",
    "    \n",
    "    # Check if results.json exists\n",
    "    if not os.path.isfile(results_path):\n",
    "        # Skip if no results.json is found in dust3r directory\n",
    "        continue\n",
    "    \n",
    "    # 2. Load the JSON\n",
    "    with open(results_path, 'r') as f:\n",
    "        data = json.load(f)\n",
    "    \n",
    "    # 3. Here we assume the key \"ours_2500\" always exists (you may change if needed).\n",
    "    #    Extract the metrics and append them to all_metrics lists.\n",
    "    if \"ours_2500\" in data:\n",
    "        for metric_name in all_metrics.keys():\n",
    "            if metric_name in data[\"ours_2500\"]:\n",
    "                all_metrics[metric_name].append(data[\"ours_2500\"][metric_name])\n",
    "\n",
    "# 4. Compute the mean across all scenes for each metric and print results\n",
    "print(\"Mean metrics across all scenes for dust3r:\\n\")\n",
    "\n"
   ]
  },
  {
   "cell_type": "code",
   "execution_count": 19,
   "metadata": {},
   "outputs": [
    {
     "data": {
      "text/plain": [
       "{'SSIM': [0.9973414540290833,\n",
       "  0.9969252943992615,\n",
       "  0.9919465184211731,\n",
       "  0.9974463582038879,\n",
       "  0.9934188723564148,\n",
       "  0.9960899353027344,\n",
       "  0.995500385761261,\n",
       "  0.9968156814575195,\n",
       "  0.9952810406684875,\n",
       "  0.9957058429718018],\n",
       " 'PSNR': [47.17097473144531,\n",
       "  46.69722366333008,\n",
       "  42.84881591796875,\n",
       "  46.22666549682617,\n",
       "  44.037540435791016,\n",
       "  43.376102447509766,\n",
       "  45.7659797668457,\n",
       "  45.1525764465332,\n",
       "  45.6099967956543,\n",
       "  45.352020263671875],\n",
       " 'LPIPS': [0.00262633734382689,\n",
       "  0.006760409567505121,\n",
       "  0.011439237743616104,\n",
       "  0.003049377119168639,\n",
       "  0.00806184858083725,\n",
       "  0.005684358533471823,\n",
       "  0.005816896911710501,\n",
       "  0.002585276495665312,\n",
       "  0.004032723139971495,\n",
       "  0.004755202680826187],\n",
       " 'Rel_err': [4.23626708984375,\n",
       "  2.9873712062835693,\n",
       "  10.639918327331543,\n",
       "  3.518209218978882,\n",
       "  8.755104064941406,\n",
       "  2.2942116260528564,\n",
       "  11.557894706726074,\n",
       "  5.134301662445068,\n",
       "  4.077447891235352,\n",
       "  2.377568483352661],\n",
       " 'Tau': [58.51194763183594,\n",
       "  83.9734115600586,\n",
       "  4.7300190925598145,\n",
       "  72.64920043945312,\n",
       "  25.250471115112305,\n",
       "  80.1493148803711,\n",
       "  12.900891304016113,\n",
       "  44.66122817993164,\n",
       "  69.95973205566406,\n",
       "  83.08668518066406]}"
      ]
     },
     "execution_count": 19,
     "metadata": {},
     "output_type": "execute_result"
    }
   ],
   "source": [
    "all_metrics"
   ]
  },
  {
   "cell_type": "code",
   "execution_count": 20,
   "metadata": {},
   "outputs": [
    {
     "name": "stdout",
     "output_type": "stream",
     "text": [
      "SSIM: 0.9956\n",
      "PSNR: 45.2238\n",
      "LPIPS: 0.0055\n",
      "Rel_err: 5.5578\n",
      "Tau: 53.5873\n"
     ]
    }
   ],
   "source": [
    "# Guard in case no metrics were found\n",
    "if not any(len(vals) > 0 for vals in all_metrics.values()):\n",
    "    print(\"No metrics found. Please check your paths or directory structure.\")\n",
    "else:\n",
    "    for metric_name, values in all_metrics.items():\n",
    "        if len(values) == 0:\n",
    "            continue  # skip if no data for this metric\n",
    "        mean_val = np.mean(values)\n",
    "        print(f\"{metric_name}: {mean_val:.4f}\")\n"
   ]
  },
  {
   "cell_type": "code",
   "execution_count": null,
   "metadata": {},
   "outputs": [],
   "source": []
  }
 ],
 "metadata": {
  "kernelspec": {
   "display_name": "ingas",
   "language": "python",
   "name": "python3"
  },
  "language_info": {
   "codemirror_mode": {
    "name": "ipython",
    "version": 3
   },
   "file_extension": ".py",
   "mimetype": "text/x-python",
   "name": "python",
   "nbconvert_exporter": "python",
   "pygments_lexer": "ipython3",
   "version": "3.10.15"
  }
 },
 "nbformat": 4,
 "nbformat_minor": 2
}
